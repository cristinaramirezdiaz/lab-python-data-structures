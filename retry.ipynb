{
 "cells": [
  {
   "cell_type": "markdown",
   "metadata": {},
   "source": [
    "Follow the steps below to complete the exercise:\n",
    "\n",
    "1. Define a list called `products` that contains the following items: \"t-shirt\", \"mug\", \"hat\", \"book\", \"keychain\".\n",
    "\n",
    "2. Create an empty dictionary called `inventory`.\n",
    "\n",
    "3. Ask the user to input the quantity of each product available in the inventory. Use the product names from the `products` list as keys in the `inventory` dictionary and assign the respective quantities as values.\n",
    "\n",
    "4. Create an empty set called `customer_orders`.\n",
    "\n",
    "5. Ask the user to input the name of three products that a customer wants to order (from those in the products list, meaning three products out of \"t-shirt\", \"mug\", \"hat\", \"book\" or \"keychain\". Add each product name to the `customer_orders` set.\n",
    "\n",
    "6. Print the products in the `customer_orders` set.\n",
    "\n",
    "7. Calculate the following order statistics:\n",
    "   - Total Products Ordered: The total number of products in the `customer_orders` set.\n",
    "   - Percentage of Products Ordered: The percentage of products ordered compared to the total available products.\n",
    "   \n",
    "   Store these statistics in a tuple called `order_status`.\n",
    "\n",
    "8. Print the order statistics using the following format:\n",
    "   ```\n",
    "   Order Statistics:\n",
    "   Total Products Ordered: <total_products_ordered>\n",
    "   Percentage of Products Ordered: <percentage_ordered>% \n",
    "   ```\n",
    "\n",
    "9. Update the inventory by subtracting 1 from the quantity of each product. Modify the `inventory` dictionary accordingly.\n",
    "\n",
    "10. Print the updated inventory, displaying the quantity of each product on separate lines.\n",
    "\n"
   ]
  },
  {
   "cell_type": "code",
   "execution_count": 1,
   "metadata": {},
   "outputs": [],
   "source": [
    "\"\"\"\n",
    "1. Define a list called `products` that contains the following items: \"t-shirt\", \"mug\", \"hat\", \"book\", \"keychain\".\n",
    "\"\"\"\n",
    "\n",
    "products = [\"t-shirt\", \"mug\", \"hat\", \"book\", \"keychain\"]"
   ]
  },
  {
   "cell_type": "code",
   "execution_count": 2,
   "metadata": {},
   "outputs": [],
   "source": [
    "\"\"\"\n",
    "2. Create an empty dictionary called `inventory`.\n",
    "\"\"\"\n",
    "\n",
    "inventory = {}"
   ]
  },
  {
   "cell_type": "code",
   "execution_count": 4,
   "metadata": {},
   "outputs": [
    {
     "name": "stdout",
     "output_type": "stream",
     "text": [
      "{'t-shirt': 3, 'mug': 5, 'hat': 6, 'book': 7, 'keychain': 8}\n"
     ]
    }
   ],
   "source": [
    "\"\"\"\n",
    "3. Ask the user to input the quantity of each product available in the inventory. \n",
    "Use the product names from the `products` list as keys in the `inventory` dictionary and assign the respective quantities as values.\n",
    "\"\"\"\n",
    "\n",
    "x1 = int(input(\"How many number of t-shirts: \"))\n",
    "x2 = int(input(\"How many number of mugs: \"))\n",
    "x3 = int(input(\"How many number of hats: \"))\n",
    "x4 = int(input(\"How many number of books: \"))\n",
    "x5 = int(input(\"How many number of keychains: \"))\n",
    "\n",
    "inventory = {\"t-shirt\":x1, \"mug\":x2, \"hat\":x3, \"book\":x4, \"keychain\":x5}\n",
    "\n",
    "print(inventory)"
   ]
  },
  {
   "cell_type": "code",
   "execution_count": 5,
   "metadata": {},
   "outputs": [
    {
     "name": "stdout",
     "output_type": "stream",
     "text": [
      "{'t-shirt': 3, 'mug': 4, 'hat': 5, 'book': 6, 'keychain': 7}\n"
     ]
    }
   ],
   "source": [
    "\"\"\"\n",
    "3. Ask the user to input the quantity of each product available in the inventory. \n",
    "Use the product names from the `products` list as keys in the `inventory` dictionary and assign the respective quantities as values.\n",
    "\"\"\"\n",
    "\n",
    "for i in products:\n",
    "    inventory[i] = int(input(f\"How many number of {i}: \"))\n",
    "\n",
    "print(inventory)"
   ]
  },
  {
   "cell_type": "code",
   "execution_count": 6,
   "metadata": {},
   "outputs": [],
   "source": [
    "\"\"\"\n",
    "4. Create an empty set called `customer_orders`.\n",
    "\"\"\"\n",
    "\n",
    "customer_orders = set()"
   ]
  },
  {
   "cell_type": "code",
   "execution_count": 7,
   "metadata": {},
   "outputs": [
    {
     "name": "stdout",
     "output_type": "stream",
     "text": [
      "{'hat', 'mug', 'book'}\n"
     ]
    }
   ],
   "source": [
    "\"\"\"\n",
    "5. Ask the user to input the name of three products that a customer wants \n",
    "to order (from those in the products list, meaning three products out of \"t-shirt\", \"mug\", \"hat\", \"book\" or \"keychain\". \n",
    "Add each product name to the `customer_orders` set.\n",
    "\"\"\"\n",
    "\n",
    "order1 = input(f\"Enter the name of a product from {products}: \").strip().lower()\n",
    "order2 = input(f\"Enter the name of a product from {products}: \").strip().lower()\n",
    "order3 = input(f\"Enter the name of a product from {products}: \").strip().lower()\n",
    "    \n",
    "customer_orders.add(order1)\n",
    "customer_orders.add(order2)\n",
    "customer_orders.add(order3)\n",
    "\n",
    "print(customer_orders)"
   ]
  },
  {
   "cell_type": "code",
   "execution_count": 9,
   "metadata": {},
   "outputs": [
    {
     "name": "stdout",
     "output_type": "stream",
     "text": [
      "{'hat', 'mug', 'book'}\n"
     ]
    }
   ],
   "source": [
    "\"\"\"\n",
    "5. Ask the user to input the name of three products that a customer wants \n",
    "to order (from those in the products list, meaning three products out of \"t-shirt\", \"mug\", \"hat\", \"book\" or \"keychain\". \n",
    "Add each product name to the `customer_orders` set.\n",
    "\"\"\"\n",
    "customer_orders = set()\n",
    "for i in products:\n",
    "    while len(customer_orders) < 3:\n",
    "        customer_orders.add(input(f\"Enter the name of a product from {products}: \").strip().lower())\n",
    "\n",
    "print(customer_orders)"
   ]
  },
  {
   "cell_type": "code",
   "execution_count": 10,
   "metadata": {},
   "outputs": [
    {
     "name": "stdout",
     "output_type": "stream",
     "text": [
      "{'hat', 'mug', 'book'}\n"
     ]
    }
   ],
   "source": [
    "\"\"\"\n",
    "6. Print the products in the `customer_orders` set.\n",
    "\"\"\"\n",
    "\n",
    "print(customer_orders)"
   ]
  },
  {
   "cell_type": "code",
   "execution_count": 12,
   "metadata": {},
   "outputs": [
    {
     "name": "stdout",
     "output_type": "stream",
     "text": [
      "[3, '60.0 %']\n"
     ]
    }
   ],
   "source": [
    "\"\"\"\n",
    "7. Calculate the following order statistics:\n",
    "   - Total Products Ordered: The total number of products in the `customer_orders` set.\n",
    "   - Percentage of Products Ordered: The percentage of products ordered compared to the total available products.\n",
    "   \n",
    "   Store these statistics in a tuple called `order_status`.\n",
    "\"\"\"\n",
    "\n",
    "total_orders = len(customer_orders)\n",
    "\n",
    "percentage = f\"{(total_orders / len(products)) * 100} %\"\n",
    "\n",
    "order_status = [total_orders , percentage]\n",
    "\n",
    "print(order_status)"
   ]
  },
  {
   "cell_type": "code",
   "execution_count": 14,
   "metadata": {},
   "outputs": [
    {
     "name": "stdout",
     "output_type": "stream",
     "text": [
      "Order Statistics: \n",
      "Total products ordered: 3\n",
      "Percentage of Products Ordered: 60.0 %\n"
     ]
    }
   ],
   "source": [
    "\"\"\"\n",
    "8. Print the order statistics using the following format:\n",
    "   ```\n",
    "   Order Statistics:\n",
    "   Total Products Ordered: <total_products_ordered>\n",
    "   Percentage of Products Ordered: <percentage_ordered>% \n",
    "   ```\n",
    "\"\"\"\n",
    "\n",
    "print(\"Order Statistics: \")\n",
    "print(f\"Total products ordered: {total_orders}\")\n",
    "print(f\"Percentage of Products Ordered: {percentage}\")"
   ]
  },
  {
   "cell_type": "code",
   "execution_count": 16,
   "metadata": {},
   "outputs": [
    {
     "name": "stdout",
     "output_type": "stream",
     "text": [
      "{'t-shirt': 1, 'mug': 3, 'hat': 4, 'book': 5, 'keychain': 6}\n"
     ]
    }
   ],
   "source": [
    "\"\"\"\n",
    "9. Update the inventory by subtracting 1 from the quantity of each product. Modify the `inventory` dictionary accordingly.\n",
    "\"\"\"\n",
    "\n",
    "inventory[\"t-shirt\"] -= 1\n",
    "inventory[\"mug\"] -= 1\n",
    "inventory[\"hat\"] -= 1\n",
    "inventory[\"book\"] -= 1\n",
    "inventory[\"keychain\"] -= 1\n",
    "\n",
    "print(inventory)"
   ]
  },
  {
   "cell_type": "code",
   "execution_count": 18,
   "metadata": {},
   "outputs": [
    {
     "name": "stdout",
     "output_type": "stream",
     "text": [
      "{'t-shirt': 0, 'mug': 2, 'hat': 3, 'book': 4, 'keychain': 5}\n"
     ]
    }
   ],
   "source": [
    "\"\"\"\n",
    "9. Update the inventory by subtracting 1 from the quantity of each product. Modify the `inventory` dictionary accordingly.\n",
    "\"\"\"\n",
    "\n",
    "for i, j in inventory.items():\n",
    "    inventory[i] -= 1\n",
    "\n",
    "print(inventory)"
   ]
  },
  {
   "cell_type": "code",
   "execution_count": 24,
   "metadata": {},
   "outputs": [
    {
     "name": "stdout",
     "output_type": "stream",
     "text": [
      "Updated inventory: \n",
      "0\n",
      "2\n",
      "3\n",
      "4\n",
      "5\n"
     ]
    }
   ],
   "source": [
    "\"\"\"\n",
    "10. Print the updated inventory, displaying the quantity of each product on separate lines.\n",
    "\"\"\"\n",
    "\n",
    "print(\"Updated inventory: \")\n",
    "print(inventory[\"t-shirt\"])\n",
    "print(inventory[\"mug\"])\n",
    "print(inventory[\"hat\"])\n",
    "print(inventory[\"book\"])\n",
    "print(inventory[\"keychain\"])\n"
   ]
  },
  {
   "cell_type": "code",
   "execution_count": 29,
   "metadata": {},
   "outputs": [
    {
     "name": "stdout",
     "output_type": "stream",
     "text": [
      "Updated inventory: \n",
      "t-shirt : 0\n",
      "mug : 2\n",
      "hat : 3\n",
      "book : 4\n",
      "keychain : 5\n"
     ]
    }
   ],
   "source": [
    "\"\"\"\n",
    "10. Print the updated inventory, displaying the quantity of each product on separate lines.\n",
    "\"\"\"\n",
    "print(\"Updated inventory: \")\n",
    "for i, j in inventory.items():\n",
    "    print(f\"{i} : {j}\")\n",
    "\n"
   ]
  },
  {
   "cell_type": "code",
   "execution_count": null,
   "metadata": {},
   "outputs": [],
   "source": []
  }
 ],
 "metadata": {
  "kernelspec": {
   "display_name": "base",
   "language": "python",
   "name": "python3"
  },
  "language_info": {
   "codemirror_mode": {
    "name": "ipython",
    "version": 3
   },
   "file_extension": ".py",
   "mimetype": "text/x-python",
   "name": "python",
   "nbconvert_exporter": "python",
   "pygments_lexer": "ipython3",
   "version": "3.12.4"
  }
 },
 "nbformat": 4,
 "nbformat_minor": 2
}
